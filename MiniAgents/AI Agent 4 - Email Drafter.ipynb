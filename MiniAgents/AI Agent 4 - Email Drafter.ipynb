{
 "cells": [
  {
   "attachments": {
    "image.png": {
     "image/png": "[encoded data removed]"
    }
   },
   "cell_type": "markdown",
   "id": "3838af92",
   "metadata": {},
   "source": [
    "## AI Agent - Email Drafter:\n",
    "\n",
    "For the company, you need to create an AI Agentic System that can speed up drafting documents, emails, etc. \n",
    "\n",
    "It should have:\n",
    "- Human-AI collaboration i.e. human should be able to provide continous feedback.\n",
    "- AI should stop when the human is happy with the draft.\n",
    "- System should be able to save the draf.\n",
    "\n",
    "![image.png](attachment:image.png)"
   ]
  },
  {
   "cell_type": "markdown",
   "id": "b5a77bb7",
   "metadata": {},
   "source": [
    "<!-- **Imports:** -->"
   ]
  },
  {
   "cell_type": "code",
   "execution_count": 1,
   "id": "127c5109",
   "metadata": {},
   "outputs": [],
   "source": [
    "# typing\n",
    "from typing import Annotated, Sequence, TypedDict\n",
    "\n",
    "# langchain\n",
    "from langchain_core.messages import BaseMessage, HumanMessage, AIMessage, ToolMessage, SystemMessage\n",
    "from langchain_ollama import ChatOllama\n",
    "from langchain_core.tools import tool\n",
    "\n",
    "# langgraph\n",
    "from langgraph.graph.message import add_messages\n",
    "from langgraph.graph import StateGraph, END\n",
    "from langgraph.prebuilt import ToolNode"
   ]
  },
  {
   "cell_type": "markdown",
   "id": "45d966d8",
   "metadata": {},
   "source": [
    "**Agent State And Tools:**"
   ]
  },
  {
   "cell_type": "code",
   "execution_count": 2,
   "id": "62c72cb7",
   "metadata": {},
   "outputs": [],
   "source": [
    "# This is the global variable to store document content\n",
    "document_content = \"\"\n",
    "\n",
    "class AgentState(TypedDict):\n",
    "    messages: Annotated[Sequence[BaseMessage], add_messages]\n",
    "\n",
    "\n",
    "@tool\n",
    "def update(content: str) -> str:\n",
    "    \"\"\"Updates the document with the provided content.\"\"\"\n",
    "    global document_content\n",
    "    document_content = content\n",
    "    return f\"Document has been updated successfully! The current content is:\\n{document_content}\"\n",
    "\n",
    "\n",
    "@tool\n",
    "def save(filename: str) -> str:\n",
    "    \"\"\"Save the current document to a text file and finish the process.\n",
    "    \n",
    "    Args:\n",
    "        filename: Name for the text file.\n",
    "    \"\"\"\n",
    "\n",
    "    global document_content\n",
    "\n",
    "    if not filename.endswith('.txt'):\n",
    "        filename = f\"{filename}.txt\"\n",
    "\n",
    "\n",
    "    try:\n",
    "        with open(filename, 'w') as file:\n",
    "            file.write(document_content)\n",
    "        print(f\"\\n💾 Document has been saved to: {filename}\")\n",
    "        return f\"Document has been saved successfully to '{filename}'.\"\n",
    "    \n",
    "    except Exception as e:\n",
    "        return f\"Error saving document: {str(e)}\"\n",
    "    \n",
    "\n",
    "tools = [update, save]"
   ]
  },
  {
   "cell_type": "markdown",
   "id": "74c73aa3",
   "metadata": {},
   "source": [
    "**Model:**"
   ]
  },
  {
   "cell_type": "code",
   "execution_count": 3,
   "id": "9ac37af4",
   "metadata": {},
   "outputs": [],
   "source": [
    "model_name = \"llama3.1:latest\"\n",
    "model = ChatOllama(model=model_name).bind_tools(tools)"
   ]
  },
  {
   "cell_type": "markdown",
   "id": "1ea1d126",
   "metadata": {},
   "source": [
    "**Node Functions:**"
   ]
  },
  {
   "cell_type": "code",
   "execution_count": 4,
   "id": "75a5ca32",
   "metadata": {},
   "outputs": [],
   "source": [
    "# Entry Node\n",
    "def our_agent(state: AgentState) -> AgentState:\n",
    "    system_prompt = SystemMessage(content=f\"\"\"\n",
    "    You are Drafter, a helpful writing assistant. You are going to help the user update and modify documents.\n",
    "    \n",
    "    - If the user wants to update or modify content, use the 'update' tool with the complete updated content.\n",
    "    - If the user wants to save and finish, you need to use the 'save' tool.\n",
    "    - Make sure to always show the current document state after modifications.\n",
    "    \n",
    "    The current document content is:{document_content}\n",
    "    \"\"\")\n",
    "\n",
    "    if not state[\"messages\"]:\n",
    "        user_input = \"I'm ready to help you update a document. What would you like to create?\"\n",
    "        user_message = HumanMessage(content=user_input)\n",
    "\n",
    "    else:\n",
    "        user_input = input(\"\\nWhat would you like to do with the document? \")\n",
    "        print(f\"\\n👤 USER: {user_input}\")\n",
    "        user_message = HumanMessage(content=user_input)\n",
    "\n",
    "    all_messages = [system_prompt] + list(state[\"messages\"]) + [user_message]\n",
    "\n",
    "    response = model.invoke(all_messages)\n",
    "\n",
    "    print(f\"\\n🤖 AI: {response.content}\")\n",
    "    if hasattr(response, \"tool_calls\") and response.tool_calls:\n",
    "        print(f\"🔧 USING TOOLS: {[tc['name'] for tc in response.tool_calls]}\")\n",
    "\n",
    "    return {\"messages\": list(state[\"messages\"]) + [user_message, response]}\n",
    "\n",
    "\n",
    "# Conditional Edge Function\n",
    "def should_continue(state: AgentState) -> str:\n",
    "    \"\"\"Determine if we should continue or end the conversation.\"\"\"\n",
    "\n",
    "    messages = state[\"messages\"]\n",
    "    \n",
    "    if not messages:\n",
    "        return \"continue\"\n",
    "    \n",
    "    # This looks for the most recent tool message....\n",
    "    for message in reversed(messages):\n",
    "        # ... and checks if this is a ToolMessage resulting from save\n",
    "        if (isinstance(message, ToolMessage) and \n",
    "            \"saved\" in message.content.lower() and\n",
    "            \"document\" in message.content.lower()):\n",
    "            return \"end\" # goes to the end edge which leads to the endpoint\n",
    "        \n",
    "    return \"continue\""
   ]
  },
  {
   "cell_type": "code",
   "execution_count": 5,
   "id": "29045dce",
   "metadata": {},
   "outputs": [],
   "source": [
    "graph = StateGraph(AgentState)\n",
    "\n",
    "# node\n",
    "graph.add_node(\"agent\", our_agent)\n",
    "graph.add_node(\"tools\", ToolNode(tools))\n",
    "\n",
    "# entry\n",
    "graph.set_entry_point(\"agent\")\n",
    "\n",
    "# edges\n",
    "graph.add_edge(\"agent\", \"tools\")\n",
    "graph.add_conditional_edges(\n",
    "    \"tools\",\n",
    "    should_continue,\n",
    "    {\n",
    "        \"continue\": \"agent\",\n",
    "        \"end\": END,\n",
    "    },\n",
    ")\n",
    "\n",
    "agent = graph.compile()\n",
    "\n",
    "\n",
    "def print_messages(messages):\n",
    "    \"\"\"Function I made to print the messages in a more readable format\"\"\"\n",
    "    if not messages:\n",
    "        return\n",
    "    \n",
    "    for message in messages[-3:]:\n",
    "        if isinstance(message, ToolMessage):\n",
    "            print(f\"\\n🛠️ TOOL RESULT: {message.content}\")\n"
   ]
  },
  {
   "cell_type": "markdown",
   "id": "f3b63fab",
   "metadata": {},
   "source": [
    "**Execute and Agent:**"
   ]
  },
  {
   "cell_type": "code",
   "execution_count": 6,
   "id": "771b425a",
   "metadata": {},
   "outputs": [
    {
     "name": "stdout",
     "output_type": "stream",
     "text": [
      "\n",
      " ===== DRAFTER =====\n",
      "\n",
      "🤖 AI: \n",
      "🔧 USING TOOLS: ['update']\n",
      "\n",
      "🛠️ TOOL RESULT: Document has been updated successfully! The current content is:\n",
      "The updated content is:\n",
      "\n",
      "The Cutting Knowledge Date has been moved to 2024.\n",
      "\n",
      "This date indicates the last time the knowledge was cut.\n",
      "\n",
      "👤 USER: What's the document content\n",
      "\n",
      "🤖 AI: \n",
      "🔧 USING TOOLS: ['update']\n",
      "\n",
      "🛠️ TOOL RESULT: Document has been updated successfully! The current content is:\n",
      "The updated content is:\n",
      "\n",
      "The Cutting Knowledge Date has been moved to 2024.\n",
      "\n",
      "This date indicates the last time the knowledge was cut.\n",
      "\n",
      "🛠️ TOOL RESULT: Document has been updated successfully! The current content is:\n",
      "The Cutting Knowledge Date has been moved to 2024.\n",
      "\n",
      "This date indicates the last time the knowledge was cut.\n",
      "\n",
      "Cutting Knowledge Date: December 2023\n",
      "\n",
      "👤 USER: save\n",
      "\n",
      "🤖 AI: \n",
      "🔧 USING TOOLS: ['save']\n",
      "\n",
      "🛠️ TOOL RESULT: Document has been updated successfully! The current content is:\n",
      "The Cutting Knowledge Date has been moved to 2024.\n",
      "\n",
      "This date indicates the last time the knowledge was cut.\n",
      "\n",
      "Cutting Knowledge Date: December 2023\n",
      "\n",
      "💾 Document has been saved to: Cutting Knowledge Document.txt\n",
      "\n",
      "🛠️ TOOL RESULT: Document has been saved successfully to 'Cutting Knowledge Document.txt'.\n",
      "\n",
      " ===== DRAFTER FINISHED =====\n"
     ]
    }
   ],
   "source": [
    "print(\"\\n ===== DRAFTER =====\")\n",
    "\n",
    "state = {\"messages\": []}\n",
    "\n",
    "for step in agent.stream(state, stream_mode=\"values\"):\n",
    "    if \"messages\" in step:\n",
    "        print_messages(step[\"messages\"])\n",
    "\n",
    "print(\"\\n ===== DRAFTER FINISHED =====\")"
   ]
  },
  {
   "cell_type": "markdown",
   "id": "a61e523a",
   "metadata": {},
   "source": [
    "**Agent Graph:**"
   ]
  },
  {
   "cell_type": "code",
   "execution_count": 7,
   "id": "811ad9c1",
   "metadata": {},
   "outputs": [
    {
     "data": {
      "image/png": "[encoded data removed]",
      "text/plain": [
       "<IPython.core.display.Image object>"
      ]
     },
     "metadata": {},
     "output_type": "display_data"
    }
   ],
   "source": [
    "from IPython.display import Image, display\n",
    "\n",
    "display(Image(agent.get_graph().draw_mermaid_png()))"
   ]
  }
 ],
 "metadata": {
  "kernelspec": {
   "display_name": "env",
   "language": "python",
   "name": "python3"
  },
  "language_info": {
   "codemirror_mode": {
    "name": "ipython",
    "version": 3
   },
   "file_extension": ".py",
   "mimetype": "text/x-python",
   "name": "python",
   "nbconvert_exporter": "python",
   "pygments_lexer": "ipython3",
   "version": "3.12.3"
  }
 },
 "nbformat": 4,
 "nbformat_minor": 5
}
