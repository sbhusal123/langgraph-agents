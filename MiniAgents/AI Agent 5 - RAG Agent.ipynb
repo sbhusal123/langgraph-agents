{
 "cells": [
  {
   "cell_type": "markdown",
   "id": "692cbf48",
   "metadata": {},
   "source": [
    "## RAG Agent:\n",
    "\n",
    "This demo show, use of RAG Agent to query the document. It requires:\n",
    "- Langchain with chromadb\n",
    "- StateGraph with RAG Tools"
   ]
  },
  {
   "cell_type": "markdown",
   "id": "86de1562",
   "metadata": {},
   "source": [
    "**Imports**"
   ]
  },
  {
   "cell_type": "code",
   "execution_count": 14,
   "id": "53d318ad",
   "metadata": {},
   "outputs": [],
   "source": [
    "# typing\n",
    "from typing import TypedDict, Annotated, Sequence\n",
    "\n",
    "# \n",
    "import os\n",
    "\n",
    "# operator\n",
    "from operator import add as add_messages\n",
    "\n",
    "# langchain\n",
    "from langchain_core.tools import tool\n",
    "from langchain_ollama import ChatOllama\n",
    "from langchain_ollama import OllamaEmbeddings\n",
    "from langchain_community.document_loaders import PyMuPDFLoader\n",
    "from langchain.text_splitter import RecursiveCharacterTextSplitter\n",
    "from langchain_core.messages import BaseMessage, SystemMessage, ToolMessage, HumanMessage\n",
    "\n",
    "# embeding chroma db\n",
    "from langchain_chroma import Chroma\n",
    "\n",
    "# langgraph\n",
    "from langgraph.graph import StateGraph, START, END"
   ]
  },
  {
   "cell_type": "markdown",
   "id": "312fed46",
   "metadata": {},
   "source": [
    "**Model:**\n",
    "- LLM => temperature zero to minimize hallu\n",
    "- Embedings => To embed the text from document."
   ]
  },
  {
   "cell_type": "code",
   "execution_count": 15,
   "id": "8d79d5c1",
   "metadata": {},
   "outputs": [],
   "source": [
    "# temperature 0 => Minimize hallucination\n",
    "llm = ChatOllama(model='llama3.1:latest', temperature=0)\n",
    "\n",
    "embeddings = OllamaEmbeddings(\n",
    "    model='nomic-embed-text:latest'\n",
    ")"
   ]
  },
  {
   "cell_type": "markdown",
   "id": "9ec1e69a",
   "metadata": {},
   "source": [
    "**PDF Loading and Embeding**"
   ]
  },
  {
   "cell_type": "code",
   "execution_count": 16,
   "id": "6542893e",
   "metadata": {},
   "outputs": [
    {
     "name": "stdout",
     "output_type": "stream",
     "text": [
      "PDF has been loaded and has 9 pages\n"
     ]
    }
   ],
   "source": [
    "pdf_path = \"Stock_Market_Performance_2024.pdf\"\n",
    "\n",
    "if not os.path.exists(pdf_path):\n",
    "    raise FileNotFoundError(f'PDF file not found {pdf_path}')\n",
    "\n",
    "pdf_loader = PyMuPDFLoader(pdf_path)\n",
    "\n",
    "try:\n",
    "    pages = pdf_loader.load()\n",
    "    print(f'PDF has been loaded and has {len(pages)} pages')\n",
    "except Exception as e:\n",
    "    print(f'Error loading PDF: {e}')\n",
    "    raise\n"
   ]
  },
  {
   "cell_type": "markdown",
   "id": "2c694c64",
   "metadata": {},
   "source": [
    "**Splitting Text in PDF:**"
   ]
  },
  {
   "cell_type": "code",
   "execution_count": 17,
   "id": "50021771",
   "metadata": {},
   "outputs": [],
   "source": [
    "# initialize\n",
    "text_splitter = RecursiveCharacterTextSplitter(\n",
    "    chunk_size=1000,\n",
    "    chunk_overlap=200\n",
    ")\n",
    "\n",
    "# apply splitter to all pages:\n",
    "pages_split = text_splitter.split_documents(pages)"
   ]
  },
  {
   "cell_type": "markdown",
   "id": "6ade2b8d",
   "metadata": {},
   "source": [
    "**Chromadb Setup:**"
   ]
  },
  {
   "cell_type": "code",
   "execution_count": 18,
   "id": "8f319dab",
   "metadata": {},
   "outputs": [
    {
     "name": "stdout",
     "output_type": "stream",
     "text": [
      "Created chromeDB vector store\n"
     ]
    }
   ],
   "source": [
    "persist_directory = './chrome_store'\n",
    "collection_name = \"stock_market\"\n",
    "\n",
    "\n",
    "# if collection doesnt exists create it\n",
    "if not os.path.exists(persist_directory):\n",
    "    os.makedirs(persist_directory)\n",
    "\n",
    "\n",
    "try:\n",
    "    # now create a vector embedings from page\n",
    "    vector_store = Chroma.from_documents(\n",
    "        documents=pages_split,\n",
    "        embedding=embeddings,\n",
    "        persist_directory=persist_directory,\n",
    "        collection_name=collection_name\n",
    "    )\n",
    "    print(f'Created chromeDB vector store')\n",
    "except Exception as e:\n",
    "    print(f'Error setting up embedings: {str(e)}')\n",
    "    raise\n"
   ]
  },
  {
   "cell_type": "markdown",
   "id": "c4d5e616",
   "metadata": {},
   "source": [
    "**Create a retriver**\n",
    "- This is a retriver used to fetch similar documents."
   ]
  },
  {
   "cell_type": "code",
   "execution_count": 19,
   "id": "35f7b428",
   "metadata": {},
   "outputs": [],
   "source": [
    "retriever = vector_store.as_retriever(\n",
    "    search_type=\"similarity\",\n",
    "    search_kwargs={'k': 5} # no of chunks to return\n",
    ")\n",
    "\n",
    "# usage:\n",
    "# similar_docs =  retriever.invoke(query)\n",
    "# This returns a list of docs that match."
   ]
  },
  {
   "cell_type": "markdown",
   "id": "ffa69627",
   "metadata": {},
   "source": [
    "**Creating a tools for agent:**"
   ]
  },
  {
   "cell_type": "code",
   "execution_count": 20,
   "id": "08cf7fd7",
   "metadata": {},
   "outputs": [],
   "source": [
    "@tool\n",
    "def retriver_tool(query: str) -> str:\n",
    "    \"\"\"\n",
    "    This tool searches and returns information from stock\n",
    "    market performance 2024 documents\n",
    "    \"\"\"\n",
    "    docs = retriever.invoke(query)\n",
    "\n",
    "    # if there's no similar doc\n",
    "    if not docs:\n",
    "        return 'I found no relevant information in the Stocket Market Performance 2024 Documents.'\n",
    "\n",
    "    results = []\n",
    "    for i, doc in enumerate(docs):\n",
    "        results.append(f\"Document {i+1}: \\n{doc.page_content}\")\n",
    "    \n",
    "    return \"\\n\\n\".join(results)\n",
    "\n",
    "\n",
    "tools = [retriver_tool]\n",
    "\n",
    "llm = llm.bind_tools(tools=tools)\n",
    "\n",
    "tools_dict = {our_tool.name: our_tool for our_tool in tools}"
   ]
  },
  {
   "cell_type": "markdown",
   "id": "13bcd3f9",
   "metadata": {},
   "source": [
    "**Agent State:**"
   ]
  },
  {
   "cell_type": "code",
   "execution_count": 21,
   "id": "bbc78e35",
   "metadata": {},
   "outputs": [],
   "source": [
    "class AgentState(TypedDict):\n",
    "    messages: Annotated[Sequence[BaseMessage], add_messages]\n"
   ]
  },
  {
   "cell_type": "markdown",
   "id": "37a7a78f",
   "metadata": {},
   "source": [
    "**Node Function:**"
   ]
  },
  {
   "cell_type": "code",
   "execution_count": 22,
   "id": "6262b80e",
   "metadata": {},
   "outputs": [],
   "source": [
    "# Conditional edge decider function\n",
    "def should_continue(state: AgentState):\n",
    "    \"\"\"Check if the last message contains tool calls.\"\"\"\n",
    "    result = state['messages'][-1]\n",
    "\n",
    "    has_tool_call = hasattr(result, 'tool_calls')\n",
    "    total_tool_calls = 0\n",
    "    if has_tool_call:\n",
    "        total_tool_calls = len(result.tool_calls)\n",
    "    \n",
    "    if has_tool_call and total_tool_calls > 0:\n",
    "        return True\n",
    "    else:\n",
    "        return False\n",
    "\n",
    "\n",
    "\n",
    "def call_llm(state: AgentState) -> AgentState:\n",
    "    \"\"\"Function to call LLM with current state\"\"\"\n",
    "\n",
    "    system_prompt = \"\"\"\n",
    "    You are an intelligent AI assistant who answers questions about Stock Market Performance in \n",
    "    2024 based on the PDF document loaded into your knowledge base. Use the retriever tool \n",
    "    available to answer questions about the stock market performance data. You can make multiple\n",
    "    calls if needed. If you need to look up some information before asking a follow up question, \n",
    "    you are allowed to do that! \n",
    "\n",
    "    Please always cite the specific parts of the documents you use in your answers.\n",
    "    \"\"\"\n",
    "    system_message = SystemMessage(content=system_prompt)\n",
    "    messages = list(state['messages'])\n",
    "    messages = [system_message] + messages\n",
    "\n",
    "    message = llm.invoke(messages)\n",
    "\n",
    "    # returns a new message to be appended to reducer\n",
    "    # Annotated[Sequence[BaseMessage], add_messages]\n",
    "    return {'messages': [message]}\n",
    "\n",
    "def take_action(state: AgentState) -> AgentState:\n",
    "    \"\"\"Executes tool call from LLM's response.\"\"\"\n",
    "\n",
    "    tool_calls = state['messages'][-1].tool_calls\n",
    "\n",
    "    results = []\n",
    "\n",
    "    for t in tool_calls:\n",
    "        # tool name and args\n",
    "        tool_name = t['name']\n",
    "        tool_call_id = t['id']\n",
    "        tool_args = t['args'].get('query', 'No query provided')\n",
    "\n",
    "        print(f\"Calling tool: {tool_name} with {tool_args}\")\n",
    "\n",
    "        # prepare a response from toolcall\n",
    "        if not tool_name in tools_dict:\n",
    "            print(f'\\nTool {tool_name} doesnt exists')\n",
    "            result = \"Incorrect Tool Name, Please retry and Select Tool From List Of Available Tools\"\n",
    "        else:\n",
    "            result = tools_dict[tool_name].invoke(tool_args)\n",
    "\n",
    "        tool_message = ToolMessage(\n",
    "            tool_call_id=tool_call_id,\n",
    "            name=tool_name,\n",
    "            content=str(result)\n",
    "        )\n",
    "        results.append(tool_message)\n",
    "\n",
    "    print('\\n Tool Execution Complete, Back to Model.')\n",
    "\n",
    "    return {'messages': results}"
   ]
  },
  {
   "cell_type": "markdown",
   "id": "75b0f9ec",
   "metadata": {},
   "source": [
    "**State graph:**"
   ]
  },
  {
   "cell_type": "code",
   "execution_count": 23,
   "id": "bbcb42e8",
   "metadata": {},
   "outputs": [
    {
     "data": {
      "text/plain": [
       "<langgraph.graph.state.StateGraph at 0x7b68c40c8a40>"
      ]
     },
     "execution_count": 23,
     "metadata": {},
     "output_type": "execute_result"
    }
   ],
   "source": [
    "graph = StateGraph(AgentState)\n",
    "\n",
    "# nodes\n",
    "graph.add_node('llm', call_llm)\n",
    "graph.add_node('retriever_agent', take_action)\n",
    "\n",
    "# edges\n",
    "graph.add_conditional_edges(\n",
    "    'llm',\n",
    "    should_continue,\n",
    "    {\n",
    "        True: 'retriever_agent',\n",
    "        False: END\n",
    "    }\n",
    ")\n",
    "\n",
    "graph.add_edge('retriever_agent', 'llm')\n",
    "\n",
    "# entry point\n",
    "graph.set_entry_point('llm')\n"
   ]
  },
  {
   "cell_type": "markdown",
   "id": "d78bc669",
   "metadata": {},
   "source": [
    "**Compile and Visualize Graph:**"
   ]
  },
  {
   "cell_type": "code",
   "execution_count": 24,
   "id": "71a7782c",
   "metadata": {},
   "outputs": [
    {
     "data": {
      "image/png": "[encoded data removed]",
      "text/plain": [
       "<IPython.core.display.Image object>"
      ]
     },
     "metadata": {},
     "output_type": "display_data"
    }
   ],
   "source": [
    "rag_agent = graph.compile()\n",
    "\n",
    "from IPython.display import Image, display\n",
    "\n",
    "display(Image(rag_agent.get_graph().draw_mermaid_png()))"
   ]
  },
  {
   "cell_type": "markdown",
   "id": "671f3aaa",
   "metadata": {},
   "source": [
    "**Invoke and Agent:**\n",
    "\n",
    "Note that this doesnt supports converstation history."
   ]
  },
  {
   "cell_type": "code",
   "execution_count": 27,
   "id": "70e7cc68",
   "metadata": {},
   "outputs": [
    {
     "name": "stdout",
     "output_type": "stream",
     "text": [
      "\n",
      "=== RAG Agent ===\n",
      "\n",
      "\n",
      "Calling tool: retriver_tool with apple stock performance 2024 key takeaways\n",
      "\n",
      " Tool Execution Complete, Back to Model.\n",
      "\n",
      "=== ANSWER ===\n",
      "Based on the documents provided, here are the key takeaways about Apple stock in 2024:\n",
      "\n",
      "* Apple Inc. (AAPL) collectively surged by roughly 64-67% on average in 2024 as part of the \"Magnificent 7\" group of powerhouse companies.\n",
      "* The company's stock price rose significantly, with a nearly 40 times expansion in valuation, trading at about 40 times its trailing earnings by the end of 2024 (Document 5).\n",
      "* Apple's combination of robust stock price growth and relatively modest earnings growth pushed its valuation to a lofty level going into 2025.\n",
      "* The company's dominance was a key theme in 2024's market climate, driven by technology and growth stocks.\n",
      "\n",
      "These takeaways are based on the information provided in Documents 3 and 5.\n",
      "\n",
      "\n",
      "Calling tool: retriver_tool with What was the previous question?\n",
      "\n",
      " Tool Execution Complete, Back to Model.\n",
      "\n",
      "=== ANSWER ===\n",
      "Based on the tool call response, I can see that you asked a question about the previous question. However, there are no previous questions in the conversation history.\n",
      "\n",
      "If you'd like to ask a new question or clarify your previous one, I'm here to help!\n",
      "\n",
      "\n"
     ]
    }
   ],
   "source": [
    "print(\"\\n=== RAG Agent ===\")\n",
    "while True:\n",
    "    user_input = input('\\n User: ')\n",
    "    print('\\n')\n",
    "    if user_input.lower() in ['exit', 'quit']:\n",
    "        break\n",
    "\n",
    "    messages = [HumanMessage(content=user_input)]\n",
    "\n",
    "    result = rag_agent.invoke({\n",
    "        'messages': messages\n",
    "    })\n",
    "\n",
    "    print(\"\\n=== ANSWER ===\")\n",
    "    print(result['messages'][-1].content)"
   ]
  }
 ],
 "metadata": {
  "kernelspec": {
   "display_name": "env",
   "language": "python",
   "name": "python3"
  },
  "language_info": {
   "codemirror_mode": {
    "name": "ipython",
    "version": 3
   },
   "file_extension": ".py",
   "mimetype": "text/x-python",
   "name": "python",
   "nbconvert_exporter": "python",
   "pygments_lexer": "ipython3",
   "version": "3.12.3"
  }
 },
 "nbformat": 4,
 "nbformat_minor": 5
}
