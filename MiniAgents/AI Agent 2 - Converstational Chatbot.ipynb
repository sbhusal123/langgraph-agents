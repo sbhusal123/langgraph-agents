{
 "cells": [
  {
   "cell_type": "markdown",
   "id": "ac216b61",
   "metadata": {},
   "source": [
    "## Convertational Chatbot With Memory:\n",
    "\n",
    "**Objectives:**\n",
    "- Use different messages type: AIMessage and HumanMessage\n",
    "- Maintain full converstation history.\n",
    "- Create sophisticated converstational loop."
   ]
  },
  {
   "cell_type": "code",
   "execution_count": null,
   "id": "45975a2f",
   "metadata": {},
   "outputs": [],
   "source": []
  }
 ],
 "metadata": {
  "kernelspec": {
   "display_name": "Python 3 (ipykernel)",
   "language": "python",
   "name": "python3"
  }
 },
 "nbformat": 4,
 "nbformat_minor": 5
}
