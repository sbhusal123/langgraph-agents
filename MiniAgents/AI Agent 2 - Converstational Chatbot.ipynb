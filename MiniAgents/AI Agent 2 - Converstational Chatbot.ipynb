{
 "cells": [
  {
   "cell_type": "markdown",
   "id": "ac216b61",
   "metadata": {},
   "source": [
    "## Convertational Chatbot With Memory:\n",
    "\n",
    "**Objectives:**\n",
    "- Use different messages type: AIMessage and HumanMessage\n",
    "- Maintain full converstation history.\n",
    "- Create sophisticated converstational loop."
   ]
  },
  {
   "cell_type": "markdown",
   "id": "3c102484",
   "metadata": {},
   "source": [
    "**Imports**"
   ]
  },
  {
   "cell_type": "code",
   "execution_count": 1,
   "id": "45975a2f",
   "metadata": {},
   "outputs": [],
   "source": [
    "from typing import TypedDict, List\n",
    "\n",
    "from langgraph.graph import StateGraph, START, END\n",
    "\n",
    "\n",
    "from langchain_ollama.chat_models import ChatOllama\n",
    "from langchain_core.messages import AIMessage, HumanMessage"
   ]
  },
  {
   "cell_type": "markdown",
   "id": "bc9e3d6b",
   "metadata": {},
   "source": [
    "**State and Node Function**"
   ]
  },
  {
   "cell_type": "code",
   "execution_count": 2,
   "id": "cb2e0e45",
   "metadata": {},
   "outputs": [],
   "source": [
    "class AgentState(TypedDict):\n",
    "    messages: List[HumanMessage]\n",
    "\n",
    "\n",
    "# use a tool call model: ~/..$ ollama ls\n",
    "llm = ChatOllama(model='llama3.2:1b')\n",
    "\n",
    "def process(state: AgentState) -> AgentState:\n",
    "    response = llm.invoke(state['messages'])\n",
    "    print(f\"\\nAI : {response.content}\")\n",
    "\n",
    "    # Appends AI output in messages\n",
    "    state['messages'].append(AIMessage(content=response.content))\n",
    "    return state"
   ]
  },
  {
   "cell_type": "markdown",
   "id": "2eb86b8b",
   "metadata": {},
   "source": [
    "**Graph, Nodes and Edges**"
   ]
  },
  {
   "cell_type": "code",
   "execution_count": 3,
   "id": "e27326b2",
   "metadata": {},
   "outputs": [],
   "source": [
    "graph = StateGraph(AgentState)\n",
    "\n",
    "# nodes\n",
    "graph.add_node('process', process)\n",
    "\n",
    "# edges\n",
    "graph.add_edge(START, \"process\")\n",
    "graph.add_edge(\"process\", END)\n",
    "\n",
    "agent = graph.compile()"
   ]
  },
  {
   "cell_type": "markdown",
   "id": "ac54cdf6",
   "metadata": {},
   "source": [
    "**Running our agent**"
   ]
  },
  {
   "cell_type": "code",
   "execution_count": 4,
   "id": "53df41cc",
   "metadata": {},
   "outputs": [
    {
     "name": "stdout",
     "output_type": "stream",
     "text": [
      "\n",
      "User: Hi, i'm bob\n",
      "\n",
      "AI : Hello Bob. How's it going? Is there something I can help you with or would you like to chat about something in particular?\n",
      "result:: [HumanMessage(content=\"Hi, i'm bob\", additional_kwargs={}, response_metadata={}), AIMessage(content=\"Hello Bob. How's it going? Is there something I can help you with or would you like to chat about something in particular?\", additional_kwargs={}, response_metadata={})]\n",
      "\n",
      "User: Add 435345 34534\n",
      "\n",
      "AI : Let's add those numbers together.\n",
      "\n",
      "435345 + 34534 = 469379\n",
      "result:: [HumanMessage(content=\"Hi, i'm bob\", additional_kwargs={}, response_metadata={}), AIMessage(content=\"Hello Bob. How's it going? Is there something I can help you with or would you like to chat about something in particular?\", additional_kwargs={}, response_metadata={}), HumanMessage(content='Add 435345 34534', additional_kwargs={}, response_metadata={}), AIMessage(content=\"Let's add those numbers together.\\n\\n435345 + 34534 = 469379\", additional_kwargs={}, response_metadata={})]\n",
      "\n",
      "User: Do you remember my name\n",
      "\n",
      "AI : I remember that you introduced yourself as Bob. Is there anything else I can help you with or would you like to do something fun?\n",
      "result:: [HumanMessage(content=\"Hi, i'm bob\", additional_kwargs={}, response_metadata={}), AIMessage(content=\"Hello Bob. How's it going? Is there something I can help you with or would you like to chat about something in particular?\", additional_kwargs={}, response_metadata={}), HumanMessage(content='Add 435345 34534', additional_kwargs={}, response_metadata={}), AIMessage(content=\"Let's add those numbers together.\\n\\n435345 + 34534 = 469379\", additional_kwargs={}, response_metadata={}), HumanMessage(content='Do you remember my name', additional_kwargs={}, response_metadata={}), AIMessage(content='I remember that you introduced yourself as Bob. Is there anything else I can help you with or would you like to do something fun?', additional_kwargs={}, response_metadata={})]\n",
      "\n",
      "User: ok byee\n",
      "\n",
      "AI : Bye Bob!\n",
      "result:: [HumanMessage(content=\"Hi, i'm bob\", additional_kwargs={}, response_metadata={}), AIMessage(content=\"Hello Bob. How's it going? Is there something I can help you with or would you like to chat about something in particular?\", additional_kwargs={}, response_metadata={}), HumanMessage(content='Add 435345 34534', additional_kwargs={}, response_metadata={}), AIMessage(content=\"Let's add those numbers together.\\n\\n435345 + 34534 = 469379\", additional_kwargs={}, response_metadata={}), HumanMessage(content='Do you remember my name', additional_kwargs={}, response_metadata={}), AIMessage(content='I remember that you introduced yourself as Bob. Is there anything else I can help you with or would you like to do something fun?', additional_kwargs={}, response_metadata={}), HumanMessage(content='ok byee', additional_kwargs={}, response_metadata={}), AIMessage(content='Bye Bob!', additional_kwargs={}, response_metadata={})]\n"
     ]
    }
   ],
   "source": [
    "converstation_history = []\n",
    "\n",
    "while (user_input := input(\"User: \")) != \"exit\":\n",
    "    print(f\"\\nUser: {user_input}\")\n",
    "\n",
    "    # Appends new user message in conv history and invokes\n",
    "    converstation_history.append(HumanMessage(content=user_input))\n",
    "    result = agent.invoke({\n",
    "        \"messages\": converstation_history\n",
    "    })\n",
    "\n",
    "    print(\"result::\", result[\"messages\"])\n",
    "\n",
    "    # note that, state messages contains all the messages including the response\n",
    "    # check the process node\n",
    "    converstation_history = result[\"messages\"]"
   ]
  }
 ],
 "metadata": {
  "kernelspec": {
   "display_name": "Python 3 (ipykernel)",
   "language": "python",
   "name": "python3"
  },
  "language_info": {
   "codemirror_mode": {
    "name": "ipython",
    "version": 3
   },
   "file_extension": ".py",
   "mimetype": "text/x-python",
   "name": "python",
   "nbconvert_exporter": "python",
   "pygments_lexer": "ipython3",
   "version": "3.12.3"
  }
 },
 "nbformat": 4,
 "nbformat_minor": 5
}
