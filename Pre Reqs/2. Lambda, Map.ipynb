{
 "cells": [
  {
   "cell_type": "markdown",
   "id": "77a94e7d-462c-4c36-9fe5-56fdacb97165",
   "metadata": {},
   "source": [
    "## 1. Lambda\n",
    "- Inline anonymous function:\n",
    "- Definition: ``x = lambda <arg>: <body>``"
   ]
  },
  {
   "cell_type": "code",
   "execution_count": 1,
   "id": "b38324ef-cede-480f-85a6-428c28108757",
   "metadata": {},
   "outputs": [
    {
     "name": "stdout",
     "output_type": "stream",
     "text": [
      "25\n"
     ]
    }
   ],
   "source": [
    "square = lambda n: n * n\n",
    "\n",
    "x = 5\n",
    "print(square(x))"
   ]
  },
  {
   "cell_type": "markdown",
   "id": "8753bca8-83d2-49a1-af0f-81087bb04a6c",
   "metadata": {},
   "source": [
    "## 2. Map\n",
    "- Applies function to every item in iterable. (list, set, tuple)\n",
    "- Definition: ``map(<func>, <iterable>)``\n",
    "\n",
    "**Example 1**"
   ]
  },
  {
   "cell_type": "code",
   "execution_count": 2,
   "id": "9cc35a4a-f6f6-4521-88d0-d3e8aeaddace",
   "metadata": {},
   "outputs": [
    {
     "data": {
      "text/plain": [
       "[1, 4, 9, 16, 25]"
      ]
     },
     "execution_count": 2,
     "metadata": {},
     "output_type": "execute_result"
    }
   ],
   "source": [
    "numbers = [1, 2, 3, 4, 5]\n",
    "\n",
    "def square(x: int) -> int:\n",
    "    return x * x\n",
    "\n",
    "numbers_squared = list(map(square, numbers))\n",
    "\n",
    "numbers_squared"
   ]
  },
  {
   "cell_type": "markdown",
   "id": "ad230e3c-9b81-48e0-8c4c-a027ec132da0",
   "metadata": {},
   "source": [
    "**Example 2: Map with Lambda**"
   ]
  },
  {
   "cell_type": "code",
   "execution_count": 3,
   "id": "e7162933-b087-4ebf-b065-e4b3b693b6a3",
   "metadata": {},
   "outputs": [
    {
     "data": {
      "text/plain": [
       "[8, 27, 64]"
      ]
     },
     "execution_count": 3,
     "metadata": {},
     "output_type": "execute_result"
    }
   ],
   "source": [
    "numbers = [2, 3, 4]\n",
    "\n",
    "numbers_cubed = list(map(lambda x: x * x * x, numbers))\n",
    "\n",
    "numbers_cubed"
   ]
  },
  {
   "cell_type": "code",
   "execution_count": null,
   "id": "18210327-5e3e-4d98-87cf-58c453b44f31",
   "metadata": {},
   "outputs": [],
   "source": []
  }
 ],
 "metadata": {
  "kernelspec": {
   "display_name": "Python 3 (ipykernel)",
   "language": "python",
   "name": "python3"
  },
  "language_info": {
   "codemirror_mode": {
    "name": "ipython",
    "version": 3
   },
   "file_extension": ".py",
   "mimetype": "text/x-python",
   "name": "python",
   "nbconvert_exporter": "python",
   "pygments_lexer": "ipython3",
   "version": "3.12.3"
  },
  "widgets": {
   "application/vnd.jupyter.widget-state+json": {
    "state": {},
    "version_major": 2,
    "version_minor": 0
   }
  }
 },
 "nbformat": 4,
 "nbformat_minor": 5
}
