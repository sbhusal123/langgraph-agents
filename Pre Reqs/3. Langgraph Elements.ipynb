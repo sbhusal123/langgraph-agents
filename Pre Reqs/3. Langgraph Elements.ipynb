{
 "cells": [
  {
   "cell_type": "markdown",
   "id": "a45914d9-9360-4b29-a119-07fdaab6b81b",
   "metadata": {},
   "source": [
    "# Elements In Langgraph:\n",
    "- State\n",
    "- Node\n",
    "- Edges\n",
    "- Graph\n",
    "- Tool\n",
    "- ToolNode\n",
    "- StateGraph\n",
    "- Runnable\n",
    "- Message"
   ]
  },
  {
   "cell_type": "markdown",
   "id": "f152cdd8-9616-4625-acb7-28918ccd4a12",
   "metadata": {},
   "source": [
    "## 1. State\n",
    "- Holds current information / context of application.\n",
    "- Application internal memory, keeps track of variables, data nodes."
   ]
  },
  {
   "cell_type": "markdown",
   "id": "7950c03d-8406-4066-8a48-971dd8b0d213",
   "metadata": {},
   "source": [
    "## 2. Node:\n",
    "- Individual functions or operations that perform task in a graph.\n",
    "- Each node **recieves input, processes it and updates state.**"
   ]
  },
  {
   "cell_type": "markdown",
   "id": "ed07f70b-4e55-429d-a0d1-c1d64bd3fbd6",
   "metadata": {},
   "source": [
    "## 3. Edges\n",
    "- Connection between nodes that determines execution of flow.\n",
    "- Tells which node should be executed next.\n",
    "\n",
    "Note there's a special type of edge called **conditional edge** which is specialized in deciding which node to **pick next based on logic applied to it using current state.**\n",
    "\n",
    "- **START:** entry point in LangGraph.\n",
    "- **END:** exit point in LangGraph."
   ]
  },
  {
   "cell_type": "markdown",
   "id": "56b5bd4d-8cea-4062-9a84-634dd6366599",
   "metadata": {},
   "source": [
    "## 4. Graph\n",
    "- An structure that maps out how different nodes (tasks) are connected and executed.\n",
    "- Visually represents a sequence and paths between various operations."
   ]
  },
  {
   "cell_type": "markdown",
   "id": "7a8b9310-06c4-4f13-8e85-80eb13a69910",
   "metadata": {},
   "source": [
    "## 5. Tool\n",
    "- Specialized function or utility that node can utilize to perform tasks.\n",
    "- Task can be: calling an api, updating data tables.\n",
    "- **Nodes are part of graph structure, while tools are functionality used within a node.**"
   ]
  },
  {
   "cell_type": "markdown",
   "id": "967cf532-0e84-4c3c-b96e-b5dfd6108e9e",
   "metadata": {},
   "source": [
    "## 6. ToolNode\n",
    "- **Special Kind Of Node, whose main job is to run a tool.**\n",
    "- Connects tool output back into State, so other node can use the info.\n",
    "| Concept       | Description                                                                                                                                                                |\n",
    "| ------------- | -------------------------------------------------------------------------------------------------------------------------------------------------------------------------- |\n",
    "| **Tool**      | A callable function the AI can use, like `get_weather()` or `search_web()`.                                                                                                |\n",
    "| **Tool Node** | A node in the LangGraph that handles **tool execution**. It looks for tool calls in the messages, executes the matching tool, and returns a `ToolMessage` with the result. |\n",
    "\n",
    "**When is Tool Node Used?**\n",
    "- During an agent's reasoning, it may decide to:\n",
    "- Call a tool\n",
    "- Wait for the tool result\n",
    "- Resume thinking using that result\n",
    "\n",
    "**Example:**\n",
    "\n",
    "```python\n",
    "from langgraph.graph import StateGraph\n",
    "from langgraph.prebuilt import tool_node\n",
    "from langchain_core.messages import HumanMessage\n",
    "from langchain_core.tools import tool\n",
    "\n",
    "@tool\n",
    "def double(x: int) -> int:\n",
    "    return x * 2\n",
    "\n",
    "tools = [double]\n",
    "executor = ToolExecutor(tools)\n",
    "\n",
    "graph = StateGraph()\n",
    "graph.add_node(\"tool_call\", tool_node(executor))\n",
    "graph.set_entry_point(\"tool_call\")\n",
    "\n",
    "initial_state = {\n",
    "    \"messages\": [\n",
    "        HumanMessage(content=\"Double 4.\"),\n",
    "        AIMessage(content=\"\", tool_calls=[{\n",
    "            \"name\": \"double\",\n",
    "            \"args\": {\"x\": 4},\n",
    "            \"id\": \"tool1\"\n",
    "        }])\n",
    "    ]\n",
    "}\n",
    "\n",
    "app = graph.compile()\n",
    "output = app.invoke(initial_state)\n",
    "\n",
    "for msg in output[\"messages\"]:\n",
    "    print(type(msg).__name__, \":\", msg.content)\n",
    "```"
   ]
  },
  {
   "cell_type": "markdown",
   "id": "6097f89d-2bb3-4952-a738-43c2c7d864d0",
   "metadata": {},
   "source": [
    "## 7. StateGraph\n",
    "- A class in langchain used to build and compile graph structure.\n",
    "- Manages nodes, edges and overall state, ensuring workflow operates in a unified way and data flows correctly between different components."
   ]
  },
  {
   "cell_type": "markdown",
   "id": "957c0961-2ad4-47d2-9eb4-7fee0452eff3",
   "metadata": {},
   "source": [
    "## 8. Runnable\n",
    "- Standarized executable in Langgraph that performs a specific task within an AI workflow.\n",
    "- Allows creating a modular system.\n",
    "- implements the ``invoke()`` method.\n",
    "\n",
    "| Concept    | What it Is                | Example                                | Role in LangGraph                       |\n",
    "| ---------- | ------------------------- | -------------------------------------- | --------------------------------------- |\n",
    "| `Node`     | Named step in the graph   | `graph.add_node(\"classify\", runnable)` | Represents a logical operation in graph |\n",
    "| `Runnable` | Callable with `.invoke()` | `RunnableLambda(fn)`, `LLMChain`, etc. | Implements the logic that a node runs   |\n"
   ]
  },
  {
   "cell_type": "markdown",
   "id": "28b18de6-dd9f-4d37-85c2-fa7477de6978",
   "metadata": {},
   "source": [
    "## 9. Message:\n",
    "- **HumanMessage:** Represents user input in a chat.\n",
    "- **AIMessage:** Represents a response from the AI assistant (e.g., GPT, Mistral, Claude).\n",
    "- **SystemMessage:** Provides instructions or context to the AI.\n",
    "- **ToolMessage:** Returned by the system after calling a tool (e.g., calculator, web search).\n",
    "- **FunctionMessage:** Represents a function's return output, often used with OpenAI tool-calling models. (Depreciated)\n"
   ]
  },
  {
   "cell_type": "code",
   "execution_count": 1,
   "id": "85299d46-8b68-49e7-a2b8-9d265c86b617",
   "metadata": {},
   "outputs": [],
   "source": [
    "from langchain_core.messages import AIMessage\n",
    "from langchain_core.messages import ToolMessage\n",
    "from langchain_core.messages import FunctionMessage\n",
    "from langchain_core.messages import SystemMessage\n",
    "from langchain_core.messages import HumanMessage\n",
    "\n",
    "msgs = [\n",
    "    SystemMessage(content=\"You are a calculator.\"),\n",
    "    HumanMessage(content=\"What is 5 * 6?\"),\n",
    "    AIMessage(content=\"Let me calculate that...\"),\n",
    "    ToolMessage(tool_call_id=\"multiply_1\", content=\"30\"),\n",
    "    AIMessage(content=\"The answer is 30.\")\n",
    "]"
   ]
  },
  {
   "cell_type": "markdown",
   "id": "8c9c64b3-4b94-4cee-996c-06718fce8bf2",
   "metadata": {},
   "source": [
    "## Example LangGraph Graph:"
   ]
  },
  {
   "cell_type": "code",
   "execution_count": 2,
   "id": "7a7c3659-9211-447f-a916-eb126cc6afe7",
   "metadata": {},
   "outputs": [
    {
     "data": {
      "text/plain": [
       "<langgraph.graph.state.StateGraph at 0x763f969bbbf0>"
      ]
     },
     "execution_count": 2,
     "metadata": {},
     "output_type": "execute_result"
    }
   ],
   "source": [
    "from typing import Dict, TypedDict\n",
    "from langgraph.graph import StateGraph\n",
    "\n",
    "\n",
    "# State\n",
    "class AgentState(TypedDict):\n",
    "    \"\"\"State\"\"\"\n",
    "    message: str\n",
    "\n",
    "# Node: Accepts state -> Return Updated One\n",
    "def greet_user(state: AgentState) -> AgentState:\n",
    "    \"\"\"Simple node that greets a user\"\"\"\n",
    "    state[\"message\"] = \"Heyy there\" + state[\"message\"]\n",
    "    return state\n",
    "\n",
    "# Graph Initialized\n",
    "graph = StateGraph(AgentState)\n",
    "\n",
    "# Adding A node\n",
    "graph.add_node(\"greet\", greet_user)\n",
    "\n",
    "# entry point and exit point\n",
    "graph.set_entry_point(\"greet\")\n",
    "graph.set_finish_point(\"greet\")"
   ]
  },
  {
   "cell_type": "markdown",
   "id": "05d2316c-1858-4336-80c4-3acc78d036ca",
   "metadata": {},
   "source": [
    "Compile a graph now"
   ]
  },
  {
   "cell_type": "code",
   "execution_count": 3,
   "id": "61841d0a-8388-41a7-85ac-75af510eaa39",
   "metadata": {},
   "outputs": [],
   "source": [
    "# compile graph\n",
    "app = graph.compile()"
   ]
  },
  {
   "cell_type": "markdown",
   "id": "0e36c214-ff00-43ae-baa0-8001f9d4ac72",
   "metadata": {},
   "source": [
    "Graph Preview"
   ]
  },
  {
   "cell_type": "code",
   "execution_count": 4,
   "id": "e392b1cf-8748-4eab-9c08-c0922cd622d0",
   "metadata": {},
   "outputs": [
    {
     "data": {
      "image/png": "[encoded data removed]",
      "text/plain": [
       "<IPython.core.display.Image object>"
      ]
     },
     "metadata": {},
     "output_type": "display_data"
    }
   ],
   "source": [
    "from IPython.display import Image, display\n",
    "display(Image(app.get_graph().draw_mermaid_png()))"
   ]
  },
  {
   "cell_type": "markdown",
   "id": "268d8499-39b5-466a-a5ce-452faa9a69d3",
   "metadata": {},
   "source": [
    "Run a graph"
   ]
  },
  {
   "cell_type": "code",
   "execution_count": 5,
   "id": "05c27765-2f7d-4acd-a4c8-883bcb428ad1",
   "metadata": {},
   "outputs": [
    {
     "data": {
      "text/plain": [
       "{'message': 'Heyy thereBob'}"
      ]
     },
     "execution_count": 5,
     "metadata": {},
     "output_type": "execute_result"
    }
   ],
   "source": [
    "result = app.invoke({\"message\": \"Bob\"})\n",
    "result"
   ]
  }
 ],
 "metadata": {
  "kernelspec": {
   "display_name": "Python 3 (ipykernel)",
   "language": "python",
   "name": "python3"
  },
  "language_info": {
   "codemirror_mode": {
    "name": "ipython",
    "version": 3
   },
   "file_extension": ".py",
   "mimetype": "text/x-python",
   "name": "python",
   "nbconvert_exporter": "python",
   "pygments_lexer": "ipython3",
   "version": "3.12.3"
  },
  "widgets": {
   "application/vnd.jupyter.widget-state+json": {
    "state": {},
    "version_major": 2,
    "version_minor": 0
   }
  }
 },
 "nbformat": 4,
 "nbformat_minor": 5
}
