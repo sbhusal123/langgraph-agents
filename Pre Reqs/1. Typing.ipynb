{
 "cells": [
  {
   "cell_type": "markdown",
   "id": "15ffb3fd-bb4b-4946-8326-d8c0c5991c7a",
   "metadata": {},
   "source": [
    "## 1. Typed Dictionary"
   ]
  },
  {
   "cell_type": "code",
   "execution_count": 1,
   "id": "68ce114f-11fa-48b5-a42a-bd19eee24336",
   "metadata": {},
   "outputs": [],
   "source": [
    "from typing import TypedDict\n",
    "\n",
    "class Movie(TypedDict):\n",
    "    name : str\n",
    "    year : int\n",
    "\n",
    "movie = Movie(name=\"Avengers\", year=2019)"
   ]
  },
  {
   "cell_type": "markdown",
   "id": "c2aaebe4-de5d-4c4d-b7cb-1c5eddff8622",
   "metadata": {},
   "source": [
    "- **Type Safety:** Type Definition for each key value\n",
    "- **Enhanced Readability:** Makes debugging easier and code readable"
   ]
  },
  {
   "cell_type": "markdown",
   "id": "94c378f0-9c70-494c-b639-a20eafdf930d",
   "metadata": {},
   "source": [
    "## 2. Union\n",
    "- Any of type specified: ``Union[<type1>, <type2>]``\n",
    "- Any type except specified is invalid."
   ]
  },
  {
   "cell_type": "code",
   "execution_count": 2,
   "id": "5e0757e7-8b38-48b1-8245-8ac70bcb371b",
   "metadata": {},
   "outputs": [],
   "source": [
    "from typing import Union\n",
    "\n",
    "def square(x: Union[int, float]) -> float:\n",
    "    return x * x"
   ]
  },
  {
   "cell_type": "markdown",
   "id": "228e9f16-7b6d-4d47-a64f-c6cdab04c3c8",
   "metadata": {},
   "source": [
    "## 3. Optional\n",
    "- Optional argument\n",
    "- But also can have type limit if specified."
   ]
  },
  {
   "cell_type": "code",
   "execution_count": 3,
   "id": "229c3667-3ce9-48d7-b62b-9430c218d50c",
   "metadata": {},
   "outputs": [],
   "source": [
    "from typing import Optional\n",
    "\n",
    "def greet(name: Optional[str]) -> None:\n",
    "    if name is None:\n",
    "        print(\"Hey random persion.\")\n",
    "    else:\n",
    "        print(f\"Hey {name}\")"
   ]
  },
  {
   "cell_type": "markdown",
   "id": "25c6d737-e8b5-4bcd-ada4-231e5267c048",
   "metadata": {},
   "source": [
    "## 4. Any\n",
    "- Of type any.\n",
    "- No type restriction"
   ]
  },
  {
   "cell_type": "code",
   "execution_count": 4,
   "id": "4bb6d14d-a396-433a-aaf2-a9df3bc07b67",
   "metadata": {},
   "outputs": [],
   "source": [
    "from typing import Any\n",
    "\n",
    "def print_value(x: Any):\n",
    "    print(x)"
   ]
  },
  {
   "cell_type": "markdown",
   "id": "a64555bc",
   "metadata": {},
   "source": [
    "## 5. Annotated\n",
    "---\n",
    "**Purpose:**\n",
    "- Attach metadata to a type, without changing the type.\n",
    "- No runtime effect on variable, but internals of some framework use it for different purpose.\n",
    "- Used by frameworks like:\n",
    "    - **Pydantic:** for validators and UI docs in swagger\n",
    "    - **FastAPI:** to extract info for request validation\n",
    "    - **LangGraph:** for reducers like add_messages, last_value\n",
    "\n",
    "---\n",
    "\n",
    "**General usage:**\n",
    "```python\n",
    "from typing import Annotated\n",
    "\n",
    "x: Annotated[int, \"positive only\"]\n",
    "\n",
    "```\n",
    "- This means: \"x is an int — and also has metadata 'positive only'\".\n",
    "\n",
    "- Tools (like LangGraph, Pydantic, etc.) can read that metadata to do extra things (e.g., validation, logging, injection).\n",
    "---\n",
    "\n",
    "**Usage with FastAPI:**\n",
    "\n",
    "```python\n",
    "from typing import Annotated\n",
    "from fastapi import Query\n",
    "\n",
    "def search(q: Annotated[str, Query(min_length=3)]):\n",
    "    ...\n",
    "```\n",
    "\n",
    "Here:\n",
    "- q is a str\n",
    "-But FastAPI uses the Query() metadata to validate length\n",
    "---\n",
    "\n",
    "**Note that annotated metadata can also be a function, how annotation is used depends on how internals of framework work.**"
   ]
  },
  {
   "cell_type": "code",
   "execution_count": 5,
   "id": "546fdb14",
   "metadata": {},
   "outputs": [
    {
     "data": {
      "text/plain": [
       "('some extra metadata',)"
      ]
     },
     "execution_count": 5,
     "metadata": {},
     "output_type": "execute_result"
    }
   ],
   "source": [
    "from typing import Annotated\n",
    "\n",
    "x =  Annotated[int, \"some extra metadata\"]\n",
    "\n",
    "x.__metadata__"
   ]
  },
  {
   "cell_type": "markdown",
   "id": "fa5a1606",
   "metadata": {},
   "source": [
    "## 6. Sequence:\n",
    "\n",
    "``Sequence[T]`` is an abstract base class that:\n",
    "- represents a **read-only**, \n",
    "- **ordered collection** \n",
    "- of elements of type T.\n",
    "\n",
    "**Examples of types that are Sequence:**\n",
    "- list\n",
    "- tuple\n",
    "- str (technically a sequence of characters)\n",
    "\n",
    "**List Vs Sequence:**\n",
    "\n",
    "| `list[T]`        | `Sequence[T]`                        |\n",
    "| ---------------- | ------------------------------------ |\n",
    "| Mutable          | Immutable (interface only)           |\n",
    "| Concrete         | Abstract                             |\n",
    "| Can `.append()`  | Cannot `.append()` (interface level) |\n",
    "| e.g. `List[int]` | e.g. `Sequence[int]`                 |\n"
   ]
  },
  {
   "cell_type": "code",
   "execution_count": 6,
   "id": "357dac9d",
   "metadata": {},
   "outputs": [
    {
     "name": "stdout",
     "output_type": "stream",
     "text": [
      "a\n",
      "b\n",
      "c\n",
      "\n",
      "\n",
      "\n",
      "x\n",
      "y\n",
      "z\n",
      "\n",
      "\n",
      "\n",
      "h\n",
      "e\n",
      "l\n",
      "l\n",
      "o\n"
     ]
    }
   ],
   "source": [
    "from typing import Sequence\n",
    "\n",
    "def print_all(items: Sequence[str]):\n",
    "    for item in items:\n",
    "        print(item)\n",
    "\n",
    "print_all([\"a\", \"b\", \"c\"])      # ✅ list\n",
    "print(\"\\n\\n\")\n",
    "print_all((\"x\", \"y\", \"z\"))      # ✅ tuple\n",
    "print(\"\\n\\n\")\n",
    "print_all(\"hello\")             # ✅ str (sequence of characters)"
   ]
  },
  {
   "cell_type": "markdown",
   "id": "f74ee257",
   "metadata": {},
   "source": [
    "## Use Case: Annotated with Reducers in Langgraph: \n",
    "\n",
    "**``langchain_core.messages.add_mesages``**\n",
    "\n",
    "---\n",
    "```python\n",
    "from typing import Annotated, Sequence\n",
    "from langgraph.graph import State, add_messages\n",
    "from langchain_core.messages import BaseMessage\n",
    "\n",
    "class AgentState(State):\n",
    "    messages: Annotated[Sequence[BaseMessage], add_messages]\n",
    "```\n",
    "Tells LangGraph to append new messages rather than overwrite\n",
    "\n",
    "---\n",
    "\n",
    "**``BaseMessage``**\n",
    "\n",
    "- Note that, every message is a instance (implementation) of  ``BaseMessage``\n",
    "\n",
    "```txt\n",
    "BaseMessage  # abstract base class\n",
    "├── HumanMessage\n",
    "├── AIMessage\n",
    "├── SystemMessage\n",
    "├── FunctionMessage\n",
    "├── ToolMessage\n",
    "├── ChatMessage  # (used for custom roles)\n",
    "```\n",
    "---\n",
    "\n",
    "**``messages:``**\n",
    "\n",
    "```python\n",
    "messages: Annotated[Sequence[BaseMessage], add_messages]\n",
    "```\n",
    "\n"
   ]
  },
  {
   "cell_type": "code",
   "execution_count": 8,
   "id": "b5028e4a",
   "metadata": {},
   "outputs": [
    {
     "name": "stdout",
     "output_type": "stream",
     "text": [
      "--- After 1st Run ---\n",
      "human: Hello\n",
      "ai: Echo: Hello\n",
      "\n",
      "--- After 2nd Run ---\n",
      "human: Hello\n",
      "ai: Echo: Hello\n",
      "human: How are you?\n",
      "ai: Echo: How are you?\n"
     ]
    }
   ],
   "source": [
    "from typing import Annotated, Sequence, TypedDict\n",
    "from langgraph.graph import StateGraph, add_messages\n",
    "from langchain_core.messages import BaseMessage, HumanMessage, AIMessage\n",
    "\n",
    "# Step 1: Define State\n",
    "class ChatState(TypedDict):\n",
    "    messages: Annotated[Sequence[BaseMessage], add_messages]\n",
    "\n",
    "# Step 2: Simple Node\n",
    "def echo_node(state: ChatState) -> ChatState:\n",
    "    last_user_msg = next((m.content for m in reversed(state[\"messages\"]) if m.type == \"human\"), \"...\")\n",
    "    ai_response = AIMessage(content=f\"Echo: {last_user_msg}\")\n",
    "    return {\"messages\": [ai_response]}\n",
    "\n",
    "# Step 3: Define Graph\n",
    "graph = StateGraph(ChatState)\n",
    "graph.add_node(\"echo\", echo_node)\n",
    "graph.set_entry_point(\"echo\")\n",
    "echo_graph = graph.compile()\n",
    "\n",
    "# Step 4: Initial State\n",
    "initial_state = {\n",
    "    \"messages\": [HumanMessage(content=\"Hello\")]\n",
    "}\n",
    "\n",
    "# Step 5: Run the Graph (1st turn)\n",
    "state1 = echo_graph.invoke(initial_state)\n",
    "print(\"--- After 1st Run ---\")\n",
    "for m in state1[\"messages\"]:\n",
    "    print(f\"{m.type}: {m.content}\")\n",
    "\n",
    "# Step 6: Run Again with More Input (2nd turn)\n",
    "state2 = echo_graph.invoke({\n",
    "    \"messages\": state1[\"messages\"] + [HumanMessage(content=\"How are you?\")]\n",
    "})\n",
    "print(\"\\n--- After 2nd Run ---\")\n",
    "for m in state2[\"messages\"]:\n",
    "    print(f\"{m.type}: {m.content}\")\n"
   ]
  },
  {
   "cell_type": "markdown",
   "id": "aeed76f5",
   "metadata": {},
   "source": [
    "```python\n",
    "# Step 2: Simple Node\n",
    "def echo_node(state: ChatState) -> ChatState:\n",
    "    last_user_msg = next((m.content for m in reversed(state[\"messages\"]) if m.type == \"human\"), \"...\")\n",
    "    ai_response = AIMessage(content=f\"Echo: {last_user_msg}\")\n",
    "    return {\"messages\": [ai_response]}\n",
    "```\n",
    "\n",
    "In the above code:\n",
    "- Instead of returning whole state, we are returning state to be updated / appended only.\n",
    "- It doesnt rewrites whole state, instead reduces.\n",
    "---\n",
    "\n",
    "**Other naive approach without reducer would be:**\n",
    "\n",
    "```python\n",
    "class ChatState(TypedDict):\n",
    "    messages: ...\n",
    "\n",
    "def echo_node(state: ChatState) -> ChatState:\n",
    "    state[\"<key>\"] = \"<value>\"\n",
    "    return state\n",
    "```\n",
    "\n",
    "- Here, we are returning a whole state, by updating a single key in a state.\n",
    "---"
   ]
  }
 ],
 "metadata": {
  "kernelspec": {
   "display_name": "env",
   "language": "python",
   "name": "python3"
  },
  "language_info": {
   "codemirror_mode": {
    "name": "ipython",
    "version": 3
   },
   "file_extension": ".py",
   "mimetype": "text/x-python",
   "name": "python",
   "nbconvert_exporter": "python",
   "pygments_lexer": "ipython3",
   "version": "3.12.3"
  },
  "widgets": {
   "application/vnd.jupyter.widget-state+json": {
    "state": {},
    "version_major": 2,
    "version_minor": 0
   }
  }
 },
 "nbformat": 4,
 "nbformat_minor": 5
}
