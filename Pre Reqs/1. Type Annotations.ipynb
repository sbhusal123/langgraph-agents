{
 "cells": [
  {
   "cell_type": "markdown",
   "id": "15ffb3fd-bb4b-4946-8326-d8c0c5991c7a",
   "metadata": {},
   "source": [
    "## 1. Typed Dictionary"
   ]
  },
  {
   "cell_type": "code",
   "execution_count": 7,
   "id": "68ce114f-11fa-48b5-a42a-bd19eee24336",
   "metadata": {},
   "outputs": [],
   "source": [
    "from typing import TypedDict\n",
    "\n",
    "class Movie(TypedDict):\n",
    "    name : str\n",
    "    year : int\n",
    "\n",
    "movie = Movie(name=\"Avengers\", year=2019)"
   ]
  },
  {
   "cell_type": "markdown",
   "id": "c2aaebe4-de5d-4c4d-b7cb-1c5eddff8622",
   "metadata": {},
   "source": [
    "- **Type Safety:** Type Definition for each key value\n",
    "- **Enhanced Readability:** Makes debugging easier and code readable"
   ]
  },
  {
   "cell_type": "markdown",
   "id": "94c378f0-9c70-494c-b639-a20eafdf930d",
   "metadata": {},
   "source": [
    "## 2. Union\n",
    "- Any of type specified: ``Union[<type1>, <type2>]``\n",
    "- Any type except specified is invalid."
   ]
  },
  {
   "cell_type": "code",
   "execution_count": 9,
   "id": "5e0757e7-8b38-48b1-8245-8ac70bcb371b",
   "metadata": {},
   "outputs": [],
   "source": [
    "from typing import Union\n",
    "\n",
    "def square(x: Union[int, float]) -> float:\n",
    "    return x * x"
   ]
  },
  {
   "cell_type": "markdown",
   "id": "228e9f16-7b6d-4d47-a64f-c6cdab04c3c8",
   "metadata": {},
   "source": [
    "## 3. Optional\n",
    "- Optional argument\n",
    "- But also can have type limit if specified."
   ]
  },
  {
   "cell_type": "code",
   "execution_count": 10,
   "id": "229c3667-3ce9-48d7-b62b-9430c218d50c",
   "metadata": {},
   "outputs": [],
   "source": [
    "from typing import Optional\n",
    "\n",
    "def greet(name: Optional[str]) -> None:\n",
    "    if name is None:\n",
    "        print(\"Hey random persion.\")\n",
    "    else:\n",
    "        print(f\"Hey {name}\")"
   ]
  },
  {
   "cell_type": "markdown",
   "id": "25c6d737-e8b5-4bcd-ada4-231e5267c048",
   "metadata": {},
   "source": [
    "## 4. Any\n",
    "- Of type any.\n",
    "- No type restriction"
   ]
  },
  {
   "cell_type": "code",
   "execution_count": 11,
   "id": "4bb6d14d-a396-433a-aaf2-a9df3bc07b67",
   "metadata": {},
   "outputs": [],
   "source": [
    "from typing import Any\n",
    "\n",
    "def print_value(x: Any):\n",
    "    print(x)"
   ]
  }
 ],
 "metadata": {
  "kernelspec": {
   "display_name": "Python 3 (ipykernel)",
   "language": "python",
   "name": "python3"
  },
  "language_info": {
   "codemirror_mode": {
    "name": "ipython",
    "version": 3
   },
   "file_extension": ".py",
   "mimetype": "text/x-python",
   "name": "python",
   "nbconvert_exporter": "python",
   "pygments_lexer": "ipython3",
   "version": "3.12.3"
  },
  "widgets": {
   "application/vnd.jupyter.widget-state+json": {
    "state": {},
    "version_major": 2,
    "version_minor": 0
   }
  }
 },
 "nbformat": 4,
 "nbformat_minor": 5
}
