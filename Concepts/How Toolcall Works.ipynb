{
 "cells": [
  {
   "cell_type": "markdown",
   "id": "2db977bb",
   "metadata": {},
   "source": [
    "# How Tool Call Works\n",
    "\n",
    "Basically toolcall doesnt mean, model directly calls a function. But models api provides a output for tool call in simpler format.\n",
    "\n",
    "Example Prompt Format Would Look Something Like Below:\n",
    "\n",
    "```txt\n",
    "System Message: \"Here's how tools work...\"\n",
    "User Message: \"What is 3 + 4?\"\n",
    "↓\n",
    "Assistant Message: { \"tool\": \"add\", \"args\": { \"a\": 3, \"b\": 4 } }\n",
    "↓\n",
    "You run the tool → result = 7\n",
    "↓\n",
    "User Message: \"Result: 7\"\n",
    "↓\n",
    "Assistant Message: \"The answer is 7.\"\n",
    "\n",
    "```"
   ]
  },
  {
   "cell_type": "code",
   "execution_count": 1,
   "id": "4641c9b5",
   "metadata": {},
   "outputs": [],
   "source": [
    "import ollama\n",
    "import json\n",
    "\n",
    "# -------------------------------\n",
    "# 🧰 Step 1: Define tools\n",
    "# -------------------------------\n",
    "def add(a, b):\n",
    "    return a + b\n",
    "\n",
    "def multiply(a, b):\n",
    "    return a * b\n",
    "\n",
    "tools = {\n",
    "    \"add\": add,\n",
    "    \"multiply\": multiply\n",
    "}\n",
    "\n",
    "# -------------------------------\n",
    "# 📜 Step 2: System prompt\n",
    "# -------------------------------\n",
    "system_prompt = \"\"\"\n",
    "You are a helpful assistant with access to tools. The tools available are:\n",
    "\n",
    "- add(a, b): adds two numbers.\n",
    "- multiply(a, b): multiplies two numbers.\n",
    "\n",
    "When you want to use a tool, respond only with this JSON format:\n",
    "{ \"tool\": \"add\", \"args\": { \"a\": 3, \"b\": 4 } }\n",
    "\n",
    "If the question is conversational or not solvable by tools, answer normally.\n",
    "\n",
    "Do not wrap anything in markdown.\n",
    "Wait for the user to provide tool result before continuing.\n",
    "\"\"\"\n",
    "\n",
    "# -------------------------------\n",
    "# 🧠 Step 3: Main function\n",
    "# -------------------------------\n",
    "def run_tool_chat(user_query: str, model: str = \"llama3.1:latest\"):\n",
    "    # Prepare initial messages\n",
    "    messages = [\n",
    "        {\"role\": \"system\", \"content\": system_prompt},\n",
    "        {\"role\": \"user\", \"content\": user_query}\n",
    "    ]\n",
    "\n",
    "    # Step 1: First model response\n",
    "    response = ollama.chat(model=model, messages=messages)\n",
    "    reply = response[\"message\"][\"content\"]\n",
    "    print(\"Assistant:\", reply)\n",
    "\n",
    "    # Step 2: Try to parse tool call\n",
    "    try:\n",
    "        tool_call = json.loads(reply)\n",
    "        tool_name = tool_call[\"tool\"]\n",
    "        args = tool_call[\"args\"]\n",
    "\n",
    "        if tool_name in tools:\n",
    "            # Run the tool\n",
    "            result = tools[tool_name](**args)\n",
    "            print(f\"🛠 Running tool: {tool_name}({args}) = {result}\")\n",
    "\n",
    "            # Send result back for final answer\n",
    "            messages.append({\"role\": \"assistant\", \"content\": reply})\n",
    "            messages.append({\"role\": \"user\", \"content\": f\"Result: {result}\"})\n",
    "\n",
    "            final_response = ollama.chat(model=model, messages=messages)\n",
    "            final_reply = final_response[\"message\"][\"content\"]\n",
    "            print(\"Assistant (final):\", final_reply)\n",
    "            return final_reply\n",
    "        else:\n",
    "            print(f\"🛑 Unknown tool: {tool_name}\")\n",
    "            return f\"Unknown tool: {tool_name}\"\n",
    "\n",
    "    except json.JSONDecodeError:\n",
    "        # Not a tool call\n",
    "        print(\"✅ Regular Assistant Reply (no tool used).\")\n",
    "        return reply\n",
    "\n",
    "    except Exception as e:\n",
    "        print(\"❌ Error during tool execution:\", e)\n",
    "        return f\"Error: {str(e)}\"\n",
    "\n"
   ]
  },
  {
   "cell_type": "markdown",
   "id": "45632100",
   "metadata": {},
   "source": [
    "**Run 1: Without Tooling**"
   ]
  },
  {
   "cell_type": "code",
   "execution_count": 2,
   "id": "df90629b",
   "metadata": {},
   "outputs": [
    {
     "name": "stdout",
     "output_type": "stream",
     "text": [
      "Assistant: I'm doing well, thanks for asking. Is there something I can help you with today? Maybe a math problem or some calculations?\n",
      "✅ Regular Assistant Reply (no tool used).\n",
      "Final Output: I'm doing well, thanks for asking. Is there something I can help you with today? Maybe a math problem or some calculations?\n"
     ]
    }
   ],
   "source": [
    "user_input = \"Hi, how are you\"\n",
    "response = run_tool_chat(user_input)\n",
    "print(\"Final Output:\", response)"
   ]
  },
  {
   "cell_type": "markdown",
   "id": "763c1f4c",
   "metadata": {},
   "source": [
    "**Run wih tool:**"
   ]
  },
  {
   "cell_type": "code",
   "execution_count": 3,
   "id": "3884f476",
   "metadata": {},
   "outputs": [
    {
     "name": "stdout",
     "output_type": "stream",
     "text": [
      "Assistant: { \"tool\": \"add\", \"args\": { \"a\": 512, \"b\": 629 } }\n",
      "🛠 Running tool: add({'a': 512, 'b': 629}) = 1141\n",
      "Assistant (final): Now that we have the result of the addition, let's divide it by 7. \n",
      "\n",
      "{ \"tool\": \"divide\", \"args\": { \"a\": 1141, \"b\": 7 } }\n",
      "Final Output: Now that we have the result of the addition, let's divide it by 7. \n",
      "\n",
      "{ \"tool\": \"divide\", \"args\": { \"a\": 1141, \"b\": 7 } }\n"
     ]
    }
   ],
   "source": [
    "user_input = \"Add 512 to 629\"\n",
    "response = run_tool_chat(user_input)\n",
    "print(\"Final Output:\", response)"
   ]
  },
  {
   "cell_type": "markdown",
   "id": "dde7e63d",
   "metadata": {},
   "source": [
    "**However this wont work properly, this requires a proper parsing of toolcall array:**\n",
    "\n",
    "We can wire up multiple toolcall if we return as a json list."
   ]
  },
  {
   "cell_type": "code",
   "execution_count": 4,
   "id": "52481bff",
   "metadata": {},
   "outputs": [
    {
     "name": "stdout",
     "output_type": "stream",
     "text": [
      "Assistant: { \"tool\": \"add\", \"args\": { \"a\": 512, \"b\": 629 } }\n",
      "🛠 Running tool: add({'a': 512, 'b': 629}) = 1141\n",
      "Assistant (final): { \"tool\": \"multiply\", \"args\": { \"a\": 6, \"b\": 1141 } }\n",
      "Final Output: { \"tool\": \"multiply\", \"args\": { \"a\": 6, \"b\": 1141 } }\n"
     ]
    }
   ],
   "source": [
    "user_input = \"Add 512 to 629. Multiply 6 to a result\"\n",
    "response = run_tool_chat(user_input)\n",
    "print(\"Final Output:\", response)"
   ]
  }
 ],
 "metadata": {
  "kernelspec": {
   "display_name": "Python 3 (ipykernel)",
   "language": "python",
   "name": "python3"
  },
  "language_info": {
   "codemirror_mode": {
    "name": "ipython",
    "version": 3
   },
   "file_extension": ".py",
   "mimetype": "text/x-python",
   "name": "python",
   "nbconvert_exporter": "python",
   "pygments_lexer": "ipython3",
   "version": "3.12.3"
  }
 },
 "nbformat": 4,
 "nbformat_minor": 5
}
