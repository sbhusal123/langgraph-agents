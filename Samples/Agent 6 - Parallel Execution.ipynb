{
 "cells": [
  {
   "cell_type": "markdown",
   "id": "a3bf4597",
   "metadata": {},
   "source": [
    "## Agent With Parallel Execution:\n",
    "- Async nodes."
   ]
  },
  {
   "cell_type": "markdown",
   "id": "c72b0d4d",
   "metadata": {},
   "source": [
    "**Imports**"
   ]
  },
  {
   "cell_type": "code",
   "execution_count": 52,
   "id": "d0835424",
   "metadata": {},
   "outputs": [],
   "source": [
    "from langgraph.graph import StateGraph, END\n",
    "from typing import TypedDict, Annotated, List\n",
    "from langchain_core.messages import BaseMessage, HumanMessage, AIMessage\n",
    "\n",
    "import asyncio"
   ]
  },
  {
   "cell_type": "markdown",
   "id": "7d6db901",
   "metadata": {},
   "source": [
    "**Agent State:**"
   ]
  },
  {
   "cell_type": "code",
   "execution_count": 53,
   "id": "857caef9",
   "metadata": {},
   "outputs": [],
   "source": [
    "class AgentState(TypedDict):\n",
    "    messages: Annotated[List[BaseMessage], lambda x, y: x + y]  # <-- Combine lists\n",
    "    validation_message: str\n",
    "    payment_message: str\n",
    "    inventory_message: str"
   ]
  },
  {
   "cell_type": "markdown",
   "id": "bc4b4d31",
   "metadata": {},
   "source": [
    "**Node Function:**"
   ]
  },
  {
   "cell_type": "code",
   "execution_count": 54,
   "id": "3a2174be",
   "metadata": {},
   "outputs": [],
   "source": [
    "async def receive_order(state: AgentState) -> AgentState:\n",
    "    print(\"🟢 Receiving order...\")\n",
    "    await asyncio.sleep(0.1)\n",
    "    msg = AIMessage(content=\"Order received.\")\n",
    "    return {\n",
    "        \"messages\": [msg]\n",
    "    }\n",
    "\n",
    "async def validate_order(state: AgentState) -> AgentState:\n",
    "    print(\"🔍 Validating order...\")\n",
    "    await asyncio.sleep(0.2)\n",
    "    return {\n",
    "        \"messages\": [AIMessage(content=\"Order validated.\")]\n",
    "    }    \n",
    "\n",
    "async def check_inventory(state: AgentState) -> AgentState:\n",
    "    print(\"📦 Checking inventory...\")\n",
    "    await asyncio.sleep(1)  # Simulate I/O\n",
    "    return {\n",
    "        'inventory_message': 'Item available in inventory',\n",
    "        'messages': [AIMessage(content=\"Inventory available.\")]\n",
    "    }\n",
    "\n",
    "async def check_payment(state: AgentState) -> AgentState:\n",
    "    print(\"💳 Verifying payment...\")\n",
    "    await asyncio.sleep(1.5)  # Simulate payment API delay\n",
    "    return {\n",
    "        \"messages\": [AIMessage(content=\"Payment successful.\")],\n",
    "        \"payment_message\": \"Payment successful.\"\n",
    "    }\n",
    "\n",
    "async def finalize_order(state: AgentState) -> AgentState:\n",
    "    print(\"📋 Finalizing order...\")\n",
    "    await asyncio.sleep(0.3)\n",
    "    return {\n",
    "        \"messages\": [AIMessage(content=\"Order finalized.\")],\n",
    "        \"validation_message\": state[\"inventory_message\"] + \" \" + state[\"payment_message\"]\n",
    "    }\n",
    "\n",
    "async def send_confirmation(state: AgentState) -> AgentState:\n",
    "    print(\"📨 Sending confirmation...\")\n",
    "    await asyncio.sleep(0.2)\n",
    "    return {\n",
    "        \"messages\": [AIMessage(content=\"Confirmation sent.\")]\n",
    "    }"
   ]
  },
  {
   "cell_type": "markdown",
   "id": "00ede787",
   "metadata": {},
   "source": [
    "**Build Graph:**"
   ]
  },
  {
   "cell_type": "code",
   "execution_count": 55,
   "id": "08ad2b28",
   "metadata": {},
   "outputs": [
    {
     "data": {
      "text/plain": [
       "<langgraph.graph.state.StateGraph at 0x721628f02fc0>"
      ]
     },
     "execution_count": 55,
     "metadata": {},
     "output_type": "execute_result"
    }
   ],
   "source": [
    "graph = StateGraph(AgentState)\n",
    "\n",
    "graph.add_node(\"Receive Order\", receive_order)\n",
    "graph.add_node(\"Validate Order\", validate_order)\n",
    "graph.add_node(\"Check Inventory\", check_inventory)\n",
    "graph.add_node(\"Check Payment\", check_payment)\n",
    "graph.add_node(\"Finalize Order\", finalize_order)\n",
    "graph.add_node(\"Send Confirmation\", send_confirmation)\n",
    "\n",
    "# Define parallel flow\n",
    "graph.set_entry_point(\"Receive Order\")\n",
    "\n",
    "graph.add_edge(\"Receive Order\", \"Validate Order\")\n",
    "\n",
    "# map\n",
    "graph.add_edge(\"Validate Order\", \"Check Inventory\")\n",
    "graph.add_edge(\"Validate Order\", \"Check Payment\")\n",
    "\n",
    "# reduce\n",
    "graph.add_edge(\"Check Inventory\", \"Finalize Order\")\n",
    "graph.add_edge(\"Check Payment\", \"Finalize Order\")\n",
    "\n",
    "# finalize\n",
    "graph.add_edge(\"Finalize Order\", \"Send Confirmation\")\n",
    "\n",
    "graph.set_finish_point(\"Send Confirmation\")"
   ]
  },
  {
   "cell_type": "markdown",
   "id": "b55f4543",
   "metadata": {},
   "source": [
    "**Compile Graph And Invoke:**"
   ]
  },
  {
   "cell_type": "code",
   "execution_count": 56,
   "id": "c10619d1",
   "metadata": {},
   "outputs": [
    {
     "name": "stdout",
     "output_type": "stream",
     "text": [
      "🟢 Receiving order...\n",
      "🔍 Validating order...\n",
      "📦 Checking inventory...\n",
      "💳 Verifying payment...\n",
      "📋 Finalizing order...\n",
      "📨 Sending confirmation...\n",
      "\n",
      "\n",
      "\n",
      "Inventory Message =>  Item available in inventory\n",
      "Payment Message =>  Payment successful.\n",
      "Validation Message =>  Item available in inventory Payment successful.\n"
     ]
    }
   ],
   "source": [
    "agent = graph.compile()\n",
    "\n",
    "# For notebook/interactive environment\n",
    "state = {\n",
    "    'inventory_message': '',\n",
    "    'payment_message': '',\n",
    "    'validation_message': '',\n",
    "    'messages': []\n",
    "}\n",
    "\n",
    "result = await agent.ainvoke(state)\n",
    "\n",
    "print(\"\\n\\n\")\n",
    "print(\"Inventory Message => \", result[\"inventory_message\"])\n",
    "print(\"Payment Message => \", result[\"payment_message\"])\n",
    "print(\"Validation Message => \", result[\"validation_message\"])"
   ]
  },
  {
   "cell_type": "markdown",
   "id": "f0b6132a",
   "metadata": {},
   "source": [
    "**Agent Graph:**"
   ]
  },
  {
   "cell_type": "code",
   "execution_count": 57,
   "id": "7b396194",
   "metadata": {},
   "outputs": [
    {
     "data": {
      "image/png": "[encoded data removed]",
      "text/plain": [
       "<IPython.core.display.Image object>"
      ]
     },
     "metadata": {},
     "output_type": "display_data"
    }
   ],
   "source": [
    "from IPython.display import Image, display\n",
    "\n",
    "display(Image(agent.get_graph().draw_mermaid_png()))"
   ]
  }
 ],
 "metadata": {
  "kernelspec": {
   "display_name": "env",
   "language": "python",
   "name": "python3"
  },
  "language_info": {
   "codemirror_mode": {
    "name": "ipython",
    "version": 3
   },
   "file_extension": ".py",
   "mimetype": "text/x-python",
   "name": "python",
   "nbconvert_exporter": "python",
   "pygments_lexer": "ipython3",
   "version": "3.12.3"
  }
 },
 "nbformat": 4,
 "nbformat_minor": 5
}
