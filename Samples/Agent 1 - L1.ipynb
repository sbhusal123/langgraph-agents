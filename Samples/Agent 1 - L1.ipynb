{
 "cells": [
  {
   "cell_type": "code",
   "execution_count": 1,
   "id": "7cafa8a2-a604-4646-bfb5-0558f1f0de19",
   "metadata": {},
   "outputs": [
    {
     "data": {
      "text/plain": [
       "{'values': [1, 2, 3], 'sum_result': 6}"
      ]
     },
     "execution_count": 1,
     "metadata": {},
     "output_type": "execute_result"
    }
   ],
   "source": [
    "from typing import Dict, TypedDict, List\n",
    "from langgraph.graph import StateGraph\n",
    "\n",
    "class AgentState(TypedDict):\n",
    "    values : List[int]\n",
    "    sum_result : int\n",
    "\n",
    "def add_values(state: AgentState) -> AgentState:\n",
    "    # here you can update as many state as you want\n",
    "    state[\"sum_result\"] = sum(state[\"values\"])\n",
    "    return state\n",
    "\n",
    "graph = StateGraph(AgentState)\n",
    "\n",
    "graph.add_node(\"add\", add_values)\n",
    "\n",
    "\n",
    "# Sets start and end of workflow: set_entry_point, set_finish_point\n",
    "graph.set_entry_point(\"add\")\n",
    "graph.set_finish_point(\"add\")\n",
    "\n",
    "app = graph.compile()\n",
    "\n",
    "app.invoke({\"values\": [1, 2, 3]})"
   ]
  },
  {
   "cell_type": "code",
   "execution_count": 2,
   "id": "bc46aa2d-d0fe-4544-b56d-bc37ed84bc13",
   "metadata": {},
   "outputs": [
    {
     "data": {
      "image/png": "[encoded data removed]",
      "text/plain": [
       "<IPython.core.display.Image object>"
      ]
     },
     "metadata": {},
     "output_type": "display_data"
    }
   ],
   "source": [
    "from IPython.display import Image, display\n",
    "\n",
    "display(\n",
    "    Image(app.get_graph().draw_mermaid_png())\n",
    ")"
   ]
  }
 ],
 "metadata": {
  "kernelspec": {
   "display_name": "Python 3 (ipykernel)",
   "language": "python",
   "name": "python3"
  },
  "language_info": {
   "codemirror_mode": {
    "name": "ipython",
    "version": 3
   },
   "file_extension": ".py",
   "mimetype": "text/x-python",
   "name": "python",
   "nbconvert_exporter": "python",
   "pygments_lexer": "ipython3",
   "version": "3.12.3"
  },
  "widgets": {
   "application/vnd.jupyter.widget-state+json": {
    "state": {},
    "version_major": 2,
    "version_minor": 0
   }
  }
 },
 "nbformat": 4,
 "nbformat_minor": 5
}
