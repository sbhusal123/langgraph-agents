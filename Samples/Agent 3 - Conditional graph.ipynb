{
 "cells": [
  {
   "cell_type": "markdown",
   "id": "2cbfcdd0-55b4-4f2a-87f1-7ea37c3136fb",
   "metadata": {},
   "source": [
    "## Conditional graph:\n",
    "\n",
    "Main Goal: `add_conditional_edges()`\n",
    "\n",
    "**Objectives:**\n",
    "- Implement conditional logic to routes to different node.\n",
    "- Use `START` and `END` nodes.\n",
    "- Create a `router node` to handle decision making."
   ]
  },
  {
   "cell_type": "markdown",
   "id": "8439680a-35e4-423c-ba83-381df503922d",
   "metadata": {},
   "source": [
    "**Define State, Nodes Function**"
   ]
  },
  {
   "cell_type": "code",
   "execution_count": 1,
   "id": "5763a5a3-84b2-4e5b-a0e1-06615833bfb6",
   "metadata": {},
   "outputs": [],
   "source": [
    "from typing import TypedDict\n",
    "\n",
    "class AgentState(TypedDict):\n",
    "    num1 : int\n",
    "    num2 : int\n",
    "    operation: str\n",
    "    result: int\n",
    "\n",
    "def add_nums(state: AgentState) -> AgentState:\n",
    "    result = state[\"num1\"] + state[\"num2\"]\n",
    "    state[\"result\"] = result\n",
    "    return state\n",
    "\n",
    "def subtract_nums(state: AgentState) -> AgentState:\n",
    "    result = state[\"num1\"] - state[\"num2\"]\n",
    "    state[\"result\"] = result\n",
    "    return state"
   ]
  },
  {
   "cell_type": "markdown",
   "id": "49a159a6-8066-4cdb-b3f2-b3938647206e",
   "metadata": {},
   "source": [
    "Now define a **router node:**, note that this doesnt returns a state dict."
   ]
  },
  {
   "cell_type": "code",
   "execution_count": 2,
   "id": "7c70f2a5-e648-4438-8959-650a2f78343f",
   "metadata": {},
   "outputs": [],
   "source": [
    "def decide_next_node(state: AgentState) -> str:\n",
    "    \"\"\"Decision edge: returns an edge to me mapped in add_conditional_edge\"\"\"\n",
    "    if state[\"operation\"] == \"+\":\n",
    "        return \"add_operation\"\n",
    "    if state[\"operation\"] == \"-\":\n",
    "        return \"subtract_operation\""
   ]
  },
  {
   "cell_type": "markdown",
   "id": "549ff098-58c3-4395-bb81-032c9a7b3eb5",
   "metadata": {},
   "source": [
    "**Now structure a node edges.**"
   ]
  },
  {
   "cell_type": "code",
   "execution_count": 3,
   "id": "117d1b91-22ba-4c7a-b15d-fdd6a98a55c2",
   "metadata": {},
   "outputs": [
    {
     "data": {
      "text/plain": [
       "<langgraph.graph.state.StateGraph at 0x78f12ef77d40>"
      ]
     },
     "execution_count": 3,
     "metadata": {},
     "output_type": "execute_result"
    }
   ],
   "source": [
    "from langgraph.graph import StateGraph\n",
    "\n",
    "from langgraph.graph import START, END\n",
    "\n",
    "graph = StateGraph(AgentState)\n",
    "\n",
    "graph.add_node(\"add\", add_nums)\n",
    "graph.add_node(\"subtract\", subtract_nums)\n",
    "\n",
    "# Add a router node, Just a RunnablePassThrough\n",
    "graph.add_node(\"router\", lambda state: state)  # RunnablePassThrough: Does Nothing"
   ]
  },
  {
   "cell_type": "markdown",
   "id": "f2bce00f-6adc-4838-8f63-92e61e0206b0",
   "metadata": {},
   "source": [
    "**Add edges**"
   ]
  },
  {
   "cell_type": "code",
   "execution_count": 4,
   "id": "f80c89fa-60ee-4b2b-ac7a-a8ca9a508d01",
   "metadata": {},
   "outputs": [
    {
     "data": {
      "text/plain": [
       "<langgraph.graph.state.StateGraph at 0x78f12ef77d40>"
      ]
     },
     "execution_count": 4,
     "metadata": {},
     "output_type": "execute_result"
    }
   ],
   "source": [
    "# Start from router\n",
    "graph.add_edge(START, \"router\")\n",
    "\n",
    "# conditional branching edge\n",
    "graph.add_conditional_edges(\n",
    "    \"router\",\n",
    "    decide_next_node,\n",
    "    {\n",
    "        # Edge : Node\n",
    "        \"add_operation\": \"add\",\n",
    "        \"subtract_operation\": \"subtract\"\n",
    "    }\n",
    ")\n",
    "\n",
    "# Define END:\n",
    "graph.add_edge(\"add\", END)\n",
    "graph.add_edge(\"subtract\", END)"
   ]
  },
  {
   "cell_type": "markdown",
   "id": "d8b22d0d-6fa6-4d2d-b4b6-db65faad1471",
   "metadata": {},
   "source": [
    "**Compile, Preview Invoke**"
   ]
  },
  {
   "cell_type": "code",
   "execution_count": 7,
   "id": "f6552cd0-9e91-4a66-9dd1-8262ee65affe",
   "metadata": {},
   "outputs": [
    {
     "data": {
      "text/plain": [
       "{'num1': 1, 'num2': 3, 'operation': '-', 'result': -2}"
      ]
     },
     "execution_count": 7,
     "metadata": {},
     "output_type": "execute_result"
    }
   ],
   "source": [
    "agent = graph.compile()\n",
    "\n",
    "agent.invoke({\n",
    "    \"num1\": 1,\n",
    "    \"num2\": 3,\n",
    "    \"operation\": \"-\"\n",
    "})"
   ]
  },
  {
   "cell_type": "code",
   "execution_count": 6,
   "id": "fd4f0698-b88f-486d-9876-2e4399887d39",
   "metadata": {
    "scrolled": true
   },
   "outputs": [
    {
     "data": {
      "text/markdown": [
       "```mermaid\n",
       "---\n",
       "config:\n",
       "  flowchart:\n",
       "    curve: linear\n",
       "---\n",
       "graph TD;\n",
       "\t__start__([<p>__start__</p>]):::first\n",
       "\tadd(add)\n",
       "\tsubtract(subtract)\n",
       "\trouter(router)\n",
       "\t__end__([<p>__end__</p>]):::last\n",
       "\t__start__ --> router;\n",
       "\trouter -. &nbsp;add_operation&nbsp; .-> add;\n",
       "\trouter -. &nbsp;subtract_operation&nbsp; .-> subtract;\n",
       "\tadd --> __end__;\n",
       "\tsubtract --> __end__;\n",
       "\tclassDef default fill:#f2f0ff,line-height:1.2\n",
       "\tclassDef first fill-opacity:0\n",
       "\tclassDef last fill:#bfb6fc\n",
       "\n",
       "```"
      ],
      "text/plain": [
       "<IPython.core.display.Markdown object>"
      ]
     },
     "metadata": {},
     "output_type": "display_data"
    }
   ],
   "source": [
    "from IPython.display import display, Markdown\n",
    "\n",
    "mermaid_code = agent.get_graph().draw_mermaid()\n",
    "display(Markdown(f\"```mermaid\\n{mermaid_code}\\n```\"))\n"
   ]
  }
 ],
 "metadata": {
  "kernelspec": {
   "display_name": "Python 3 (ipykernel)",
   "language": "python",
   "name": "python3"
  },
  "language_info": {
   "codemirror_mode": {
    "name": "ipython",
    "version": 3
   },
   "file_extension": ".py",
   "mimetype": "text/x-python",
   "name": "python",
   "nbconvert_exporter": "python",
   "pygments_lexer": "ipython3",
   "version": "3.12.3"
  },
  "widgets": {
   "application/vnd.jupyter.widget-state+json": {
    "state": {},
    "version_major": 2,
    "version_minor": 0
   }
  }
 },
 "nbformat": 4,
 "nbformat_minor": 5
}
