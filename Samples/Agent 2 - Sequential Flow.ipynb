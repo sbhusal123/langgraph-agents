{
 "cells": [
  {
   "cell_type": "markdown",
   "id": "1f9dc4d6-78c0-4bcc-880c-7478208d6803",
   "metadata": {},
   "source": [
    "## Agent 2\n",
    "\n",
    "This demostrates the sequential flow in langgraph agents.\n",
    "\n",
    "**Define Types**"
   ]
  },
  {
   "cell_type": "code",
   "execution_count": 1,
   "id": "b7428a97-1e4c-499a-8379-95eebd748ee8",
   "metadata": {},
   "outputs": [],
   "source": [
    "from typing import TypedDict, Dict, List\n",
    "\n",
    "class ItemsDict(TypedDict):\n",
    "    name : str\n",
    "    price : int\n",
    "\n",
    "class AgentState(TypedDict):\n",
    "    items : List[ItemsDict]\n",
    "    cheapest : ItemsDict\n",
    "    expensive : ItemsDict\n",
    "\n",
    "\n",
    "def get_min(state: AgentState) -> AgentState:\n",
    "    cheapest = min(state[\"items\"], key=lambda x: x[\"price\"])\n",
    "    state[\"cheapest\"] = cheapest\n",
    "    return state\n",
    "\n",
    "def get_max(state: AgentState) -> AgentState:\n",
    "    cheapest = max(state[\"items\"], key=lambda x: x[\"price\"])\n",
    "    state[\"expensive\"] = cheapest\n",
    "    return state"
   ]
  },
  {
   "cell_type": "markdown",
   "id": "26858c11-157e-49c4-8ec3-9ca38c5565c8",
   "metadata": {},
   "source": [
    "**Define agent state graph**"
   ]
  },
  {
   "cell_type": "code",
   "execution_count": 2,
   "id": "e5720da0-b73d-4344-88fe-46a480f8a017",
   "metadata": {},
   "outputs": [
    {
     "data": {
      "text/plain": [
       "{'items': [{'item': 'Apple', 'price': 30},\n",
       "  {'item': 'Banana', 'price': 10},\n",
       "  {'item': 'Orange', 'price': 20}],\n",
       " 'cheapest': {'item': 'Banana', 'price': 10},\n",
       " 'expensive': {'item': 'Apple', 'price': 30}}"
      ]
     },
     "execution_count": 2,
     "metadata": {},
     "output_type": "execute_result"
    }
   ],
   "source": [
    "from langgraph.graph import StateGraph\n",
    "\n",
    "graph = StateGraph(AgentState)\n",
    "\n",
    "graph.add_node(\"cheapest\", get_min)\n",
    "graph.add_node(\"expensive\", get_max)\n",
    "\n",
    "# Sequential execution, expensive after cheapest\n",
    "graph.add_edge(\"cheapest\", \"expensive\")\n",
    "\n",
    "graph.set_entry_point(\"cheapest\")\n",
    "graph.set_finish_point(\"expensive\")\n",
    "\n",
    "agent = graph.compile()\n",
    "\n",
    "items : List[ItemsDict] = [\n",
    "    {\"item\": \"Apple\", \"price\": 30},\n",
    "    {\"item\": \"Banana\", \"price\": 10},\n",
    "    {\"item\": \"Orange\", \"price\": 20},\n",
    "]\n",
    "\n",
    "agent.invoke({\"items\": items})"
   ]
  },
  {
   "cell_type": "code",
   "execution_count": 3,
   "id": "6182c806-6c6a-46dd-a119-481f80d024de",
   "metadata": {},
   "outputs": [
    {
     "data": {
      "image/png": "[encoded data removed]",
      "text/plain": [
       "<IPython.core.display.Image object>"
      ]
     },
     "metadata": {},
     "output_type": "display_data"
    }
   ],
   "source": [
    "from IPython.display import Image, display\n",
    "\n",
    "display(Image(agent.get_graph().draw_mermaid_png()))"
   ]
  },
  {
   "cell_type": "markdown",
   "id": "50be66b3-18ef-4ede-9bb2-23ef612410c8",
   "metadata": {},
   "source": [
    "Here, we have a sequential execution starting from cheapest node to expensive node."
   ]
  }
 ],
 "metadata": {
  "kernelspec": {
   "display_name": "Python 3 (ipykernel)",
   "language": "python",
   "name": "python3"
  },
  "language_info": {
   "codemirror_mode": {
    "name": "ipython",
    "version": 3
   },
   "file_extension": ".py",
   "mimetype": "text/x-python",
   "name": "python",
   "nbconvert_exporter": "python",
   "pygments_lexer": "ipython3",
   "version": "3.12.3"
  },
  "widgets": {
   "application/vnd.jupyter.widget-state+json": {
    "state": {},
    "version_major": 2,
    "version_minor": 0
   }
  }
 },
 "nbformat": 4,
 "nbformat_minor": 5
}
